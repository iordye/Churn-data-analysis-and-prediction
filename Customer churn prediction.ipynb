{
 "cells": [
  {
   "cell_type": "markdown",
   "id": "6a2716aa",
   "metadata": {},
   "source": [
    "# Objective and Goal"
   ]
  },
  {
   "cell_type": "markdown",
   "id": "5feb29e2",
   "metadata": {},
   "source": [
    "1. The objective and goal for this project is to identify patterns and differences in characteristics between customers who have churned and those who \n",
    "\n",
    "haven't by running Analysis on a Telecommunication churn dataset. The insights i shall gain will be beneficial to the management as they will use \n",
    "\n",
    "these insights to develop strategies to retain customers and reduce he rate of churn among them.\n",
    "\n",
    "\n",
    "\n",
    "\n",
    "\n",
    "\n",
    "2. The second objective and goal for this project is to develop a predictive model which will learn from the patterns in this dataset thereby gain the ability to \n",
    "\n",
    "predicts weather a customer is going to churn or not condsidering their interactions with services provided by the company which will assist the management \n",
    "\n",
    "identify and address customer concerns enhancing customer retention rates."
   ]
  },
  {
   "cell_type": "code",
   "execution_count": null,
   "id": "ce924cd7",
   "metadata": {},
   "outputs": [],
   "source": [
    "#importing the necessary labraries needed for this project\n",
    "import numpy as np\n",
    "import pandas as pd\n",
    "import matplotlib.pyplot as plt\n",
    "import seaborn as sns \n",
    "sns.set()\n",
    "from sklearn.metrics import accuracy_score, classification_report, confusion_matrix, roc_curve, roc_auc_score\n",
    "from sklearn.model_selection import train_test_split,RandomizedSearchCV, KFold\n",
    "from sklearn.neighbors import KNeighborsClassifier\n",
    "from sklearn.tree import DecisionTreeClassifier\n",
    "from sklearn.linear_model import LogisticRegression\n",
    "from sklearn.ensemble import VotingClassifier\n",
    "from sklearn.preprocessing import StandardScaler"
   ]
  },
  {
   "cell_type": "code",
   "execution_count": null,
   "id": "43d6fa4b",
   "metadata": {},
   "outputs": [],
   "source": [
    "#Reading the dataframe into the notebook\n",
    "df = pd.read_csv(\"C:/Users/HP/Desktop/Projects/Datasets/WA_Fn-UseC_-Telco-Customer-Churn.csv\")"
   ]
  },
  {
   "cell_type": "code",
   "execution_count": null,
   "id": "eb12eb9a",
   "metadata": {
    "scrolled": true
   },
   "outputs": [],
   "source": [
    "#printing the dataframe's first five rows of the dataset\n",
    "df.head()"
   ]
  },
  {
   "cell_type": "code",
   "execution_count": null,
   "id": "dc60863e",
   "metadata": {},
   "outputs": [],
   "source": [
    "#outputing the basic information about dataset\n",
    "df.info()"
   ]
  },
  {
   "cell_type": "code",
   "execution_count": null,
   "id": "7dd653b1",
   "metadata": {},
   "outputs": [],
   "source": [
    "\"\"\"\n",
    "This code shows the data type of columns in this dataset running this code will help me supervise and ensure that \n",
    "each column is assigned the appropriate data type based on the type of data it contains\n",
    "\"\"\"\n",
    "df.dtypes"
   ]
  },
  {
   "cell_type": "markdown",
   "id": "019302f2",
   "metadata": {},
   "source": [
    "# Data cleaning"
   ]
  },
  {
   "cell_type": "code",
   "execution_count": null,
   "id": "77ac6604",
   "metadata": {},
   "outputs": [],
   "source": [
    "#Dropping unneeded column\n",
    "df.drop(\"customer_ID\", axis = 1, inplace=True)"
   ]
  },
  {
   "cell_type": "code",
   "execution_count": null,
   "id": "4fb1d405",
   "metadata": {},
   "outputs": [],
   "source": [
    "'''\n",
    "After analyzing this data set's information for each column and row, i found some error on the senior citizen's column and \n",
    "for uniformity and order i shall be converting the values of the Senior citizen column from \"1\", \"0\" to \"yes\", \"no\" and \n",
    "also converting it's data type to an object data type\n",
    "'''\n",
    "\n",
    "\n",
    "\n",
    "# Replacing the data for SeniorCitizen which automatically converts the column's dtype to obj\n",
    "df[\"senior_citizen\"] = df[\"senior_citizen\"].replace({0: \"No\", 1: \"Yes\"})\n",
    "df[\"senior_citizen\"].unique()"
   ]
  },
  {
   "cell_type": "code",
   "execution_count": null,
   "id": "6baabfe0",
   "metadata": {},
   "outputs": [],
   "source": [
    "\"\"\"\n",
    "The total_charges column not left behind contains numerical data but has an object datatype \n",
    "and as such we shall change it to a float64 data type\n",
    "\"\"\"\n",
    "\n",
    "\n",
    "\n",
    "#The total charges column was found having a wrong data type and as such I changed it to the appropriate type\n",
    "df[\"total_charges\"] = pd.to_numeric(df[\"total_charges\"], errors = \"coerce\")\n",
    "df[\"total_charges\"].dtype\n"
   ]
  },
  {
   "cell_type": "code",
   "execution_count": null,
   "id": "32aedd6d",
   "metadata": {},
   "outputs": [],
   "source": [
    "#Checking for missing values in this dataset\n",
    "df.isna().sum().sort_values()"
   ]
  },
  {
   "cell_type": "markdown",
   "id": "46de3c6a",
   "metadata": {},
   "source": [
    "The total column was found to have 11 miss values from 11 rows and as such i shall be investigating the reason behind this."
   ]
  },
  {
   "cell_type": "code",
   "execution_count": null,
   "id": "3dd116ff",
   "metadata": {},
   "outputs": [],
   "source": [
    "#inspecting the column with missing values to detect causes and patterns\n",
    "df[df[\"total_charges\"].isna()].describe()"
   ]
  },
  {
   "cell_type": "code",
   "execution_count": null,
   "id": "af13b487",
   "metadata": {},
   "outputs": [],
   "source": [
    "#inspecting the column with missing values to detect causes and patterns\n",
    "df[df[\"total_charges\"].isna()]"
   ]
  },
  {
   "cell_type": "markdown",
   "id": "88aa616f",
   "metadata": {},
   "source": [
    "After analyzing this data set and the rows with missing values i found out that these row all had a zero tenure meaning all customers registed under these rows spent zero time with the company and as such i shall be filling the missing data in the total charges column with zeros"
   ]
  },
  {
   "cell_type": "code",
   "execution_count": null,
   "id": "4949da83",
   "metadata": {},
   "outputs": [],
   "source": [
    "df[\"total_charges\"] = df[\"total_charges\"].fillna(0)"
   ]
  },
  {
   "cell_type": "code",
   "execution_count": null,
   "id": "c6d0f279",
   "metadata": {},
   "outputs": [],
   "source": [
    "\n",
    "#Re-checking for missing values in this dataset one more time to ensure our changes reflected in the dataset positively\n",
    "df.isna().sum().sort_values()"
   ]
  },
  {
   "cell_type": "markdown",
   "id": "97bc97e2",
   "metadata": {},
   "source": [
    "# Exploratory Data Analysis"
   ]
  },
  {
   "cell_type": "markdown",
   "id": "ade02984",
   "metadata": {},
   "source": [
    "## How long do customers  stay with the company ?"
   ]
  },
  {
   "cell_type": "code",
   "execution_count": null,
   "id": "83b49f3c",
   "metadata": {},
   "outputs": [],
   "source": [
    "#Dividing the data into two groups based on their churn status\n",
    "churned = df[df['churn'] == 'Yes']\n",
    "non_churned = df[df['churn'] == 'No']"
   ]
  },
  {
   "cell_type": "code",
   "execution_count": null,
   "id": "6f702d27",
   "metadata": {},
   "outputs": [],
   "source": [
    "avg_tenure_churn_yes = round(churned.tenure.mean(),2)\n",
    "\n",
    "avg_tenure_churn_no = round(non_churned.tenure.mean(),2)\n",
    "\n",
    "# Combine the result in a dataframe\n",
    "results = pd.DataFrame({\n",
    "    'Metric': ['Avg Tenure (Churn: Yes)', 'Avg Tenure (Churn: No)'],\n",
    "    'Value': [avg_tenure_churn_yes, avg_tenure_churn_no]\n",
    "})\n",
    "\n",
    "# Plot the results using a bar chart\n",
    "plt.figure(figsize=(10,5))\n",
    "ax = sns.barplot(x='Metric', y='Value', data=results)\n",
    "ax.set(xlabel='',ylabel='Tenure month')\n",
    "plt.xticks(rotation=0, ha='center')\n",
    "plt.title('Average tenure for Churned and Non-Churned Customers')\n",
    "\n",
    "# Annotate the bar chart with values\n",
    "for p in ax.patches:\n",
    "    ax.annotate(format(p.get_height(), '.2f'), \n",
    "                (p.get_x() + p.get_width() / 2., p.get_height()), \n",
    "                ha = 'center', va = 'center', \n",
    "                xytext = (0, 4), \n",
    "                textcoords = 'offset points')\n",
    "plt.show()"
   ]
  },
  {
   "cell_type": "markdown",
   "id": "fbac6fcf",
   "metadata": {},
   "source": [
    "## A visualization on the distribution of values among the categorical columns"
   ]
  },
  {
   "cell_type": "code",
   "execution_count": null,
   "id": "7c81e051",
   "metadata": {
    "scrolled": false
   },
   "outputs": [],
   "source": [
    "review = df[['gender', 'senior_citizen', 'partner', 'dependents',\n",
    "       'phone_service', 'multiple_lines', 'internet_service',\n",
    "       'online_security', 'online_backup', 'device_protection', 'tech_support',\n",
    "       'streaming_tV', 'streaming_movies', 'contract', 'paperless_billing',\n",
    "       'payment_method']]\n",
    "for i in review.columns:\n",
    "    print(df[i].value_counts(normalize = True).round(3))\n",
    "    plt.figure(figsize=(6, 4))\n",
    "    sns.barplot(x=review[i].value_counts().index, \n",
    "                y=review[i].value_counts()\n",
    "               ).set(title=i, xlabel='Label', ylabel='Frequency')\n",
    "    plt.xticks(rotation = 45)\n",
    "    plt.show()"
   ]
  },
  {
   "cell_type": "markdown",
   "id": "fa57de97",
   "metadata": {},
   "source": [
    "The Visualization above shows the distribution of values among the following columns:\n",
    "\n",
    "1. Gender: Categorizes customers as male or female.\n",
    "\n",
    "\n",
    "2. Senior Citizen: Indicates whether a customer is a senior citizen (Yes / No).\n",
    "\n",
    "\n",
    "3. Partner: Indicates whether a customer has a partner (Yes / No).\n",
    "\n",
    "\n",
    "4. Dependents: Indicates whether a customer has dependents (Yes / No).\n",
    "\n",
    "\n",
    "5. Phone Service: Indicates whether a customer has a phone service plan (Yes / No).\n",
    "\n",
    "\n",
    "6. Multiple Lines: Indicates whether a customer has multiple phone lines (No phone service / Yes / No).\n",
    "\n",
    "\n",
    "7. Internet Service: Indicates whether a customer has an internet service plan (DSL / Fiber optic / No).\n",
    "\n",
    "\n",
    "8. Online Security: Indicates whether a customer subscribes to online security services (Yes / No / No internet service).\n",
    "\n",
    "\n",
    "9. Online Backup: Indicates whether a customer subscribes to online backup services (Yes / No / No internet service).\n",
    "\n",
    "\n",
    "10. Device Protection: Indicates whether a customer subscribes to device protection services (Yes / No / No internet service).\n",
    "\n",
    "\n",
    "11. Tech Support: Indicates whether a customer utilizes technical support services (Yes / No / No internet service).\n",
    "\n",
    "\n",
    "12. StreamingTV: Indicates whether a customer subscribes to a streaming TV service (Yes / No / No internet service).\n",
    "\n",
    "\n",
    "13. Streaming Movies: Indicates whether a customer subscribes to a streaming movie service (Yes / No / No internet service).\n",
    "\n",
    "\n",
    "14. Contract: Indicates whether a customer has a contract with the company (Month-to-month / One year / Two year).\n",
    "\n",
    "\n",
    "15. Paperless Billing: Indicates whether a customer uses paperless billing (Yes / No).\n",
    "\n",
    "\n",
    "16. Payment Method: Categorizes the customer's payment method (Electronic check / Mailed check / Bank transfer (automatic) /   Credit card (automatic)).\n",
    "\n",
    "\n",
    "\n",
    "\n",
    "\n",
    "I used bar charts to visualize the distribution of unique values within each category and also show thier distribution via percentage among customers, this helps us understand the general composition of the customer base. \n",
    "\n",
    "\n",
    "\n",
    "This initial exploration provides a basic understanding of the data, the next steps will involve analyzing the churn rate."
   ]
  },
  {
   "cell_type": "markdown",
   "id": "e39c6e44",
   "metadata": {},
   "source": [
    "## What is the distribution of churn among customers(gender based)?"
   ]
  },
  {
   "cell_type": "code",
   "execution_count": null,
   "id": "d56072fb",
   "metadata": {},
   "outputs": [],
   "source": [
    "gender_dis = df[\"gender\"].value_counts(normalize = True).round(3)\n",
    "gender_dis"
   ]
  },
  {
   "cell_type": "code",
   "execution_count": null,
   "id": "e2343af3",
   "metadata": {},
   "outputs": [],
   "source": [
    "#Data visualization on churn analysis\n",
    "ax = sns.countplot(\n",
    "    x = \"gender\",\n",
    "    data = df\n",
    ")\n",
    "label = df['gender'].value_counts().apply(lambda x: x*100.0/len(df)).round(2).astype('str') + '%'\n",
    "for p in ax.patches:\n",
    "    ax.annotate(format(p.get_height()*100/len(df), '.2f'), \n",
    "                (p.get_x() + p.get_width() / 2., p.get_height()), \n",
    "                ha = 'center', va = 'center', \n",
    "                xytext = (0, 4), \n",
    "                textcoords = 'offset points')\n",
    "plt.show()"
   ]
  },
  {
   "cell_type": "markdown",
   "id": "54214542",
   "metadata": {},
   "source": [
    "Analysis of this data shows that 50 percentage of customers are males and 49 percentage of customers are females now let's analyze churn distribution among them "
   ]
  },
  {
   "cell_type": "code",
   "execution_count": null,
   "id": "71bcff51",
   "metadata": {},
   "outputs": [],
   "source": [
    "#analysis\n",
    "df.groupby(\"gender\")[\"churn\"].value_counts().to_frame()"
   ]
  },
  {
   "cell_type": "code",
   "execution_count": null,
   "id": "06b12a7b",
   "metadata": {},
   "outputs": [],
   "source": [
    "#Data visualization on churn analysis\n",
    "sns.countplot(\n",
    "    x = \"gender\",\n",
    "    hue = \"churn\",\n",
    "    data = df\n",
    ")\n",
    "plt.show()"
   ]
  },
  {
   "cell_type": "markdown",
   "id": "bad57ef0",
   "metadata": {},
   "source": [
    "The data analysis above shows that Majority of customers who churn are Women with a count of 939 female customers who churned out of 3488 female customers"
   ]
  },
  {
   "cell_type": "markdown",
   "id": "6d45ffc6",
   "metadata": {},
   "source": [
    "## What percentage of customers are senior Citizens?"
   ]
  },
  {
   "cell_type": "code",
   "execution_count": null,
   "id": "22cf7cc0",
   "metadata": {},
   "outputs": [],
   "source": [
    "sns.countplot(\n",
    "    x = df[\"senior_citizen\"]\n",
    ")\n",
    "plt.show()"
   ]
  },
  {
   "cell_type": "code",
   "execution_count": null,
   "id": "64d4175f",
   "metadata": {},
   "outputs": [],
   "source": [
    "df[\"senior_citizen\"].value_counts(normalize = True)"
   ]
  },
  {
   "cell_type": "markdown",
   "id": "d52e82e0",
   "metadata": {},
   "source": [
    "Data analysis show that 16% out of 100% of our customers are Senior citizens while 84% of customers are Junior citizens"
   ]
  },
  {
   "cell_type": "markdown",
   "id": "30b6f342",
   "metadata": {},
   "source": [
    "## What is the distribution of churn among Citizen class?"
   ]
  },
  {
   "cell_type": "code",
   "execution_count": null,
   "id": "6c91a4ae",
   "metadata": {},
   "outputs": [],
   "source": [
    "df.groupby(\"senior_citizen\")[\"churn\"].value_counts().to_frame()"
   ]
  },
  {
   "cell_type": "code",
   "execution_count": null,
   "id": "0ff7a484",
   "metadata": {},
   "outputs": [],
   "source": [
    "df.groupby(\"senior_citizen\")[\"churn\"].value_counts(normalize = True).round(2).to_frame()"
   ]
  },
  {
   "cell_type": "code",
   "execution_count": null,
   "id": "ec7d2a3c",
   "metadata": {},
   "outputs": [],
   "source": [
    "#Data visualization on churn analysis\n",
    "sns.countplot(\n",
    "    x = \"senior_citizen\",\n",
    "    hue = \"churn\",\n",
    "    data = df\n",
    ")\n",
    "plt.show()"
   ]
  },
  {
   "cell_type": "markdown",
   "id": "054a0cee",
   "metadata": {},
   "source": [
    "From the data analysis above insights has been gathered that\n",
    "1. 76% of customers from the junior citizen class didn't churn while 24% of customers from the junior class did churn.\n",
    "2. 58% of customers from the senior citiizen class didn't churn while 42% of customers from this class of citizens did churn.\n",
    "\n",
    "This implies that services provided by the company is much more enjoyed by customers from the junior citizen class. "
   ]
  },
  {
   "cell_type": "markdown",
   "id": "e278f56b",
   "metadata": {},
   "source": [
    "## What is the distribution of churn among customers with partners?"
   ]
  },
  {
   "cell_type": "code",
   "execution_count": null,
   "id": "5aeb8543",
   "metadata": {},
   "outputs": [],
   "source": [
    "df[\"partner\"].value_counts(normalize = True).round(2).to_frame()"
   ]
  },
  {
   "cell_type": "markdown",
   "id": "67729bf4",
   "metadata": {},
   "source": [
    "This shows that 52% of customers are living without partners while 48% of customers live with partners "
   ]
  },
  {
   "cell_type": "code",
   "execution_count": null,
   "id": "60fb7e2e",
   "metadata": {},
   "outputs": [],
   "source": [
    "sns.countplot(\n",
    "    x = df[\"partner\"],\n",
    "    hue = df[\"churn\"]\n",
    ")\n",
    "plt.show()"
   ]
  },
  {
   "cell_type": "code",
   "execution_count": null,
   "id": "e806ce32",
   "metadata": {},
   "outputs": [],
   "source": [
    "df.groupby(\"partner\")[\"churn\"].value_counts(normalize = True).to_frame()"
   ]
  },
  {
   "cell_type": "markdown",
   "id": "741109df",
   "metadata": {},
   "source": [
    "Customers without partners have a higher distribution of churn as compared to customers with partners indicating this could be that customers who share the bills last longer"
   ]
  },
  {
   "cell_type": "markdown",
   "id": "d6c3f025",
   "metadata": {},
   "source": [
    "## What is the distribution of churn among customers with partners based on gender?"
   ]
  },
  {
   "cell_type": "code",
   "execution_count": null,
   "id": "a78b0671",
   "metadata": {},
   "outputs": [],
   "source": [
    "df.groupby([\"gender\", \"partner\"])[\"churn\"].value_counts(normalize = True).round(2).to_frame()"
   ]
  },
  {
   "cell_type": "markdown",
   "id": "e952810a",
   "metadata": {},
   "source": [
    "from the statistical analysis above it is seen that both male and  female customers with partners have a lower distribution of churn rate as compared to customers without partners \n"
   ]
  },
  {
   "cell_type": "markdown",
   "id": "c0c55814",
   "metadata": {},
   "source": [
    "## what is the distribution of churn among customers based on dependents?"
   ]
  },
  {
   "cell_type": "code",
   "execution_count": null,
   "id": "db06e9d0",
   "metadata": {},
   "outputs": [],
   "source": [
    "df[\"dependents\"].value_counts(normalize = True)"
   ]
  },
  {
   "cell_type": "code",
   "execution_count": null,
   "id": "15949198",
   "metadata": {},
   "outputs": [],
   "source": [
    "sns.countplot(\n",
    "    x = \"dependents\",\n",
    "    data = df\n",
    ")\n",
    "plt.show()"
   ]
  },
  {
   "cell_type": "markdown",
   "id": "a28f06ec",
   "metadata": {},
   "source": [
    "shown in the data analysis above 70% of customers are not dependent while 30% are dependent "
   ]
  },
  {
   "cell_type": "code",
   "execution_count": null,
   "id": "261a5df2",
   "metadata": {},
   "outputs": [],
   "source": [
    "df.groupby(\"dependents\")[\"churn\"].value_counts( normalize =True).to_frame()"
   ]
  },
  {
   "cell_type": "code",
   "execution_count": null,
   "id": "9a41cfd4",
   "metadata": {},
   "outputs": [],
   "source": [
    "sns.countplot(\n",
    "    x = \"dependents\",\n",
    "    hue = \"churn\",\n",
    "    data = df\n",
    ")\n",
    "plt.show()"
   ]
  },
  {
   "cell_type": "markdown",
   "id": "c3a1c4a2",
   "metadata": {},
   "source": [
    "Data analysis shows that dependent customers have the highest churn rate as compared to  undependent customers"
   ]
  },
  {
   "cell_type": "markdown",
   "id": "feac3bce",
   "metadata": {},
   "source": [
    "## What is the churn rate of customers based on if they use a phone service?"
   ]
  },
  {
   "cell_type": "code",
   "execution_count": null,
   "id": "c4efc005",
   "metadata": {},
   "outputs": [],
   "source": [
    "df.phone_service.value_counts(normalize = True).round(3).to_frame()\n"
   ]
  },
  {
   "cell_type": "code",
   "execution_count": null,
   "id": "6a6ecdce",
   "metadata": {},
   "outputs": [],
   "source": [
    "sns.histplot(\n",
    "    x = \"phone_service\",\n",
    "    data = df\n",
    ")\n",
    "plt.show()"
   ]
  },
  {
   "cell_type": "markdown",
   "id": "a19035ab",
   "metadata": {},
   "source": [
    "from the analysis above we can see that 90% of customers subscribe to a phone service while just 10% percentage of customers donot have a phone service subscription now let's run analysis to know the churn rate between customers who do and do not have a phone service subscription."
   ]
  },
  {
   "cell_type": "code",
   "execution_count": null,
   "id": "2d25d185",
   "metadata": {},
   "outputs": [],
   "source": [
    "df.groupby('phone_service')[\"churn\"].value_counts(normalize = True).round(2).to_frame()"
   ]
  },
  {
   "cell_type": "code",
   "execution_count": null,
   "id": "ec26a007",
   "metadata": {},
   "outputs": [],
   "source": [
    "sns.countplot(\n",
    "    x ='phone_service',\n",
    "    hue = \"churn\",\n",
    "    data = df\n",
    "    )\n",
    "plt.xticks(rotation = 45)\n",
    "plt.show()"
   ]
  },
  {
   "cell_type": "markdown",
   "id": "6253b493",
   "metadata": {},
   "source": [
    "As seen in the visualization and statistics above the rate of churn among customers with or without a phone service subcription is very low as majority of them do not churn."
   ]
  },
  {
   "cell_type": "markdown",
   "id": "7e48e0c3",
   "metadata": {},
   "source": [
    "## What is the churn rate of customers based on they number of lines the own?"
   ]
  },
  {
   "cell_type": "code",
   "execution_count": null,
   "id": "25dc7d2f",
   "metadata": {},
   "outputs": [],
   "source": [
    "df[\"multiple_lines\"].value_counts(normalize = True).round(2).to_frame()"
   ]
  },
  {
   "cell_type": "code",
   "execution_count": null,
   "id": "b1d83746",
   "metadata": {},
   "outputs": [],
   "source": [
    "sns.histplot(\n",
    "    df[\"multiple_lines\"]\n",
    ")\n",
    "plt.show()"
   ]
  },
  {
   "cell_type": "markdown",
   "id": "bb5ee4c8",
   "metadata": {},
   "source": [
    "Insight gathered from the analysis above shows that out of the 90% of customers who made a phone service subscription 48% of them own multiple lines while 42% own just one lines and as usual 10% of customers did not make a phone service subscription "
   ]
  },
  {
   "cell_type": "code",
   "execution_count": null,
   "id": "387fd517",
   "metadata": {},
   "outputs": [],
   "source": [
    "df.groupby('multiple_lines')[\"churn\"].value_counts(normalize = True).round(2).to_frame()"
   ]
  },
  {
   "cell_type": "code",
   "execution_count": null,
   "id": "b8835aca",
   "metadata": {},
   "outputs": [],
   "source": [
    "sns.countplot(\n",
    "    x = 'multiple_lines',\n",
    "    hue = \"churn\",\n",
    "    data = df\n",
    "    )\n",
    "plt.xticks(rotation = 45)\n",
    "plt.show()"
   ]
  },
  {
   "cell_type": "markdown",
   "id": "c58c4bc0",
   "metadata": {},
   "source": [
    "The churn rate among customers who have multiple line is higher as compared to those with just a line and those without a phone service"
   ]
  },
  {
   "cell_type": "markdown",
   "id": "b3d698db",
   "metadata": {},
   "source": [
    "## What is the churn rate of customers on the basis of the the use an internet service?"
   ]
  },
  {
   "cell_type": "code",
   "execution_count": null,
   "id": "52dae560",
   "metadata": {},
   "outputs": [],
   "source": [
    "df[\"internet_service\"].value_counts(normalize = True).round(2).to_frame()"
   ]
  },
  {
   "cell_type": "code",
   "execution_count": null,
   "id": "3c9c3906",
   "metadata": {},
   "outputs": [],
   "source": [
    "sns.histplot(\n",
    "    df[\"internet_service\"]\n",
    ")\n",
    "plt.show()"
   ]
  },
  {
   "cell_type": "markdown",
   "id": "9fdfcade",
   "metadata": {},
   "source": [
    "This shows that 78 percentage of customers have a subcription for internet services while 22 percentage of customers do not have this subcription \n",
    "\n",
    "Among which 44 percentage of them use a fiber optic which is the type of internet service most customers use, while 34 percentage of them use DSL \n"
   ]
  },
  {
   "cell_type": "code",
   "execution_count": null,
   "id": "1d8dd352",
   "metadata": {},
   "outputs": [],
   "source": [
    "df.groupby('internet_service')[\"churn\"].value_counts(normalize = True).round(2).to_frame()"
   ]
  },
  {
   "cell_type": "code",
   "execution_count": null,
   "id": "85319433",
   "metadata": {},
   "outputs": [],
   "source": [
    "sns.countplot(\n",
    "    x = 'internet_service',\n",
    "    hue = \"churn\",\n",
    "    data = df\n",
    "    )\n",
    "plt.xticks(rotation = 45)\n",
    "plt.show()"
   ]
  },
  {
   "cell_type": "markdown",
   "id": "f1e76270",
   "metadata": {},
   "source": [
    "a high number of customers who use the fiber optic type of internet service churn does this mean that the service provide is not worth it? for out of a 100% of customers who use this service 42% of them turn to churn.\n",
    "Also it is seen that customers with no internet subscription remain loyal to the company as a litte percentage of 7 churns out of a 100% OF THEM and the customers who use the DSL type of internet service have a churn rate of 19%."
   ]
  },
  {
   "cell_type": "markdown",
   "id": "57cbe1bc",
   "metadata": {},
   "source": [
    "## What is the churn Rate of customers on the basis of Online security?"
   ]
  },
  {
   "cell_type": "code",
   "execution_count": null,
   "id": "a41eac1c",
   "metadata": {},
   "outputs": [],
   "source": [
    "df[\"online_security\"].value_counts(normalize = True).round(2).to_frame()\n"
   ]
  },
  {
   "cell_type": "code",
   "execution_count": null,
   "id": "7985d974",
   "metadata": {
    "scrolled": true
   },
   "outputs": [],
   "source": [
    "sns.histplot(\n",
    "    df[\"online_security\"]\n",
    ")\n",
    "plt.show()"
   ]
  },
  {
   "cell_type": "markdown",
   "id": "f031c76e",
   "metadata": {},
   "source": [
    "78 percentage of customers have a subscripiton for internet service and 22 percentage of customers don't, out of the 78 percentage of customers who have a subscribed tariff for internet services just 28 percentage do have an online security from the company and a high rate of 50 percenatge do not have an online security provided by the company"
   ]
  },
  {
   "cell_type": "code",
   "execution_count": null,
   "id": "46d29672",
   "metadata": {},
   "outputs": [],
   "source": [
    "sns.countplot(\n",
    "    x = 'online_security',\n",
    "    hue = \"churn\",\n",
    "    data = df\n",
    "    )\n",
    "plt.xticks(rotation = 45)\n",
    "plt.show()"
   ]
  },
  {
   "cell_type": "code",
   "execution_count": null,
   "id": "ccd09a2d",
   "metadata": {},
   "outputs": [],
   "source": [
    "df.groupby('online_security')[\"churn\"].value_counts(normalize = True).round(2).to_frame()"
   ]
  },
  {
   "cell_type": "markdown",
   "id": "7720cac1",
   "metadata": {},
   "source": [
    "There is a high rate of churn for customers without a online security subscription from the company does this mean that they are unaware that the company actually provides an online security to customers or they think the security provided is poor and as such churn to find other places?\n",
    "\n",
    "There is a low churn rate for customers with an online security subscription this shows that majority of them enjoy the services."
   ]
  },
  {
   "cell_type": "markdown",
   "id": "330ed18a",
   "metadata": {},
   "source": [
    "## What is the churn rate of customers on the basis of online backup?"
   ]
  },
  {
   "cell_type": "code",
   "execution_count": null,
   "id": "3490b131",
   "metadata": {},
   "outputs": [],
   "source": [
    "df[\"online_backup\"].value_counts(normalize = True).round(2).to_frame()"
   ]
  },
  {
   "cell_type": "code",
   "execution_count": null,
   "id": "5d011c9a",
   "metadata": {
    "scrolled": true
   },
   "outputs": [],
   "source": [
    "sns.histplot(\n",
    "    df[\"online_backup\"]\n",
    ")\n",
    "plt.show()"
   ]
  },
  {
   "cell_type": "markdown",
   "id": "9f7699fb",
   "metadata": {},
   "source": [
    "44% is a poor rate for customers who do not use an online backup service out of the 78% who make use of online services leaving jsut 34% of them who make use of this service"
   ]
  },
  {
   "cell_type": "code",
   "execution_count": null,
   "id": "eb63f695",
   "metadata": {},
   "outputs": [],
   "source": [
    "sns.countplot(\n",
    "    x = 'online_backup',\n",
    "    hue = \"churn\",\n",
    "    data = df\n",
    "    )\n",
    "plt.xticks(rotation = 45)\n",
    "plt.show()"
   ]
  },
  {
   "cell_type": "code",
   "execution_count": null,
   "id": "74ef968b",
   "metadata": {},
   "outputs": [],
   "source": [
    "df.groupby('online_backup')[\"churn\"].value_counts(normalize = True).round(2).to_frame()"
   ]
  },
  {
   "cell_type": "markdown",
   "id": "d86bdd73",
   "metadata": {},
   "source": [
    "Analysis shows that more them three quarter of customers who use the online backup service do not churn and 40% of customers who do not use this servise churn and 93% out of the remaining 22% of customers who do not use an internet service do noot churn too"
   ]
  },
  {
   "cell_type": "markdown",
   "id": "1c5c8d98",
   "metadata": {},
   "source": [
    "## What is the churn rate of customers on the basis of device protection?"
   ]
  },
  {
   "cell_type": "code",
   "execution_count": null,
   "id": "5a719e59",
   "metadata": {},
   "outputs": [],
   "source": [
    "df[\"device_protection\"].value_counts(normalize = True).round(2).to_frame()"
   ]
  },
  {
   "cell_type": "code",
   "execution_count": null,
   "id": "0ed89df5",
   "metadata": {},
   "outputs": [],
   "source": [
    "sns.histplot(\n",
    "    df[\"device_protection\"]\n",
    ")\n",
    "plt.show()"
   ]
  },
  {
   "cell_type": "markdown",
   "id": "c912c6e8",
   "metadata": {},
   "source": [
    "From the analysis ran above it can be seen that most customers (44% out of 78% who use internet service) do not use a device protection service, while a small rate of 34% use this service."
   ]
  },
  {
   "cell_type": "code",
   "execution_count": null,
   "id": "3fd572b5",
   "metadata": {
    "scrolled": true
   },
   "outputs": [],
   "source": [
    "df.groupby('device_protection')[\"churn\"].value_counts(normalize = True).round(2).to_frame()"
   ]
  },
  {
   "cell_type": "code",
   "execution_count": null,
   "id": "c81f3b1a",
   "metadata": {},
   "outputs": [],
   "source": [
    "sns.countplot(\n",
    "    x = 'device_protection',\n",
    "    hue = \"churn\",\n",
    "    data = df\n",
    "    )\n",
    "plt.xticks(rotation = 45)\n",
    "plt.show()"
   ]
  },
  {
   "cell_type": "markdown",
   "id": "769e7e94",
   "metadata": {},
   "source": [
    "Critical analysis show that 39% of customers who do not use the device protection service provided by the company churn this might be a sign that the company needs step up thier device protection adverts format to customers as these customers may not have uused this serivce and churn due to ignorance as it is seen that a good rate of 77% of customers who use this service remain loyal to the company."
   ]
  },
  {
   "cell_type": "markdown",
   "id": "cc4ac941",
   "metadata": {},
   "source": [
    "## What is the churn analysis of customers on the basis of Tech Support"
   ]
  },
  {
   "cell_type": "code",
   "execution_count": null,
   "id": "7457bb85",
   "metadata": {},
   "outputs": [],
   "source": [
    "df[\"tech_support\"].value_counts(normalize = True).round(2).to_frame()"
   ]
  },
  {
   "cell_type": "code",
   "execution_count": null,
   "id": "86bc53e5",
   "metadata": {},
   "outputs": [],
   "source": [
    "sns.histplot(\n",
    "    df[\"tech_support\"]\n",
    ")\n",
    "plt.show()"
   ]
  },
  {
   "cell_type": "markdown",
   "id": "40759857",
   "metadata": {},
   "source": [
    "Statistics show that out of 78% of customers who use the internet 49% of them use the Tech support while 29% of them do not use the Tech support "
   ]
  },
  {
   "cell_type": "code",
   "execution_count": null,
   "id": "126c4cc7",
   "metadata": {},
   "outputs": [],
   "source": [
    "df.groupby('tech_support')[\"churn\"].value_counts(normalize = True).round(2).to_frame()"
   ]
  },
  {
   "cell_type": "code",
   "execution_count": null,
   "id": "a5d9c84f",
   "metadata": {
    "scrolled": true
   },
   "outputs": [],
   "source": [
    "sns.countplot(\n",
    "    x = 'tech_support',\n",
    "    hue = \"churn\",\n",
    "    data = df\n",
    "    )\n",
    "plt.xticks(rotation = 45)\n",
    "plt.show()"
   ]
  },
  {
   "cell_type": "markdown",
   "id": "ca1b9b2e",
   "metadata": {},
   "source": [
    "Analysis show that customers who do not use a tech support have a churn rate of 42% which can be a huge set back for the company. Also it is seen in this analysis that there is a low rate of 15% percentage for churn among customers who use a tech support."
   ]
  },
  {
   "cell_type": "markdown",
   "id": "4c511ada",
   "metadata": {},
   "source": [
    "## What's the churn rate among customers who maded made subscription to a streaming TV?"
   ]
  },
  {
   "cell_type": "code",
   "execution_count": null,
   "id": "7090f56d",
   "metadata": {},
   "outputs": [],
   "source": [
    "df[\"streaming_tV\"].value_counts(normalize = True).round(2).to_frame()"
   ]
  },
  {
   "cell_type": "code",
   "execution_count": null,
   "id": "6a1c62b0",
   "metadata": {},
   "outputs": [],
   "source": [
    "sns.histplot(\n",
    "    df[\"streaming_tV\"]\n",
    ")\n",
    "plt.show()"
   ]
  },
  {
   "cell_type": "markdown",
   "id": "d1440c32",
   "metadata": {},
   "source": [
    "The analysis and statistics above show that 40% out of 78% of customers who use an internet service have a subscription for a streaming TV service and 38% of customers do not have a streaming TV subscription."
   ]
  },
  {
   "cell_type": "code",
   "execution_count": null,
   "id": "068f0f3f",
   "metadata": {},
   "outputs": [],
   "source": [
    "df.groupby('streaming_tV')[\"churn\"].value_counts(normalize = True).round(2).to_frame()"
   ]
  },
  {
   "cell_type": "code",
   "execution_count": null,
   "id": "e417ee96",
   "metadata": {},
   "outputs": [],
   "source": [
    "sns.countplot(\n",
    "    x = 'streaming_tV',\n",
    "    hue = \"churn\",\n",
    "    data = df\n",
    "    )\n",
    "plt.xticks(rotation = 45)\n",
    "plt.show()"
   ]
  },
  {
   "cell_type": "markdown",
   "id": "7232a9a2",
   "metadata": {},
   "source": [
    "analysing the streaming tv column by churn it is seen that 34% of customers who do not have this subscription churn while 66% OF them do not also as seen in the visualization and statistics above 70% of customers who subscribed to a streaming TV didn't churn while 30% of them did churn"
   ]
  },
  {
   "cell_type": "markdown",
   "id": "00567b69",
   "metadata": {},
   "source": [
    "## What is the churn rate among customers with a streaming Movies subscription?"
   ]
  },
  {
   "cell_type": "code",
   "execution_count": null,
   "id": "5061a793",
   "metadata": {},
   "outputs": [],
   "source": [
    "df[\"streaming_movies\"].value_counts(normalize = True).round(3).to_frame()"
   ]
  },
  {
   "cell_type": "code",
   "execution_count": null,
   "id": "27a1064c",
   "metadata": {
    "scrolled": true
   },
   "outputs": [],
   "source": [
    "sns.histplot(\n",
    "    df[\"streaming_movies\"]\n",
    ")\n",
    "plt.show()"
   ]
  },
  {
   "cell_type": "markdown",
   "id": "15764820",
   "metadata": {},
   "source": [
    "The analysis and statistics above show that 40% out of 78% of customers who use an internet service have a subscription for a streaming movies service and 38% of customers do not have a streaming movies subscription."
   ]
  },
  {
   "cell_type": "code",
   "execution_count": null,
   "id": "ba3d6411",
   "metadata": {
    "scrolled": true
   },
   "outputs": [],
   "source": [
    "df.groupby('streaming_movies')[\"churn\"].value_counts(normalize = True).round(2).to_frame()"
   ]
  },
  {
   "cell_type": "code",
   "execution_count": null,
   "id": "d6f1e351",
   "metadata": {},
   "outputs": [],
   "source": [
    "sns.countplot(\n",
    "    x = 'streaming_movies',\n",
    "    hue = \"churn\",\n",
    "    data = df\n",
    "    )\n",
    "plt.xticks(rotation = 45)\n",
    "plt.show()"
   ]
  },
  {
   "cell_type": "markdown",
   "id": "b7485961",
   "metadata": {},
   "source": [
    "Now analyzing the churn rate it is seen from the statistics and visualization above that out of the 38% percentage of customers who do not have a streaming movies subscripiton, 34% of them churn while 66% don't also analyzing for those with this subscription, there is a 70% non churn rate and a 30% churn rate "
   ]
  },
  {
   "cell_type": "markdown",
   "id": "75c232a8",
   "metadata": {},
   "source": [
    "## What is the churn rate for customers based on their contract type?"
   ]
  },
  {
   "cell_type": "code",
   "execution_count": null,
   "id": "14dec8c2",
   "metadata": {},
   "outputs": [],
   "source": [
    "df[\"contract\"].value_counts(normalize = True).round(2).to_frame()"
   ]
  },
  {
   "cell_type": "code",
   "execution_count": null,
   "id": "a136efdb",
   "metadata": {},
   "outputs": [],
   "source": [
    "sns.histplot(\n",
    "    df[\"contract\"]\n",
    ")\n",
    "plt.show()"
   ]
  },
  {
   "cell_type": "markdown",
   "id": "65d1d5e3",
   "metadata": {},
   "source": [
    "Based on the above statistics and visualization it is seen that; \n",
    "\n",
    "The contract for 55% of customers is month-to-month,\n",
    "\n",
    "The contract for 24% of customers is two years and \n",
    "\n",
    "The contract for 21% of customers is one year"
   ]
  },
  {
   "cell_type": "code",
   "execution_count": null,
   "id": "3e8e379a",
   "metadata": {},
   "outputs": [],
   "source": [
    "sns.countplot(\n",
    "    x = 'contract',\n",
    "    hue = \"churn\",\n",
    "    data = df\n",
    "    )\n",
    "plt.xticks(rotation = 45)\n",
    "plt.show()"
   ]
  },
  {
   "cell_type": "code",
   "execution_count": null,
   "id": "89ec7a01",
   "metadata": {},
   "outputs": [],
   "source": [
    "df.groupby('contract')[\"churn\"].value_counts(normalize = True).round(2).to_frame()"
   ]
  },
  {
   "cell_type": "markdown",
   "id": "48c6a107",
   "metadata": {},
   "source": [
    "Now for the analysis of churn based on the type of contract a customer uses it is seen that the contract with the highest \n",
    "\n",
    "churn rate from customers is the month to month contract category where majority of the company customers fall and the contract \n",
    "\n",
    "category with the least churn rate and highest non churn rate is the two years contract which is the category that comes second in number of customers."
   ]
  },
  {
   "cell_type": "markdown",
   "id": "d9fdd0f8",
   "metadata": {},
   "source": [
    "# What is the churn rate of customers on the basis of if or not the use a paperless bill?"
   ]
  },
  {
   "cell_type": "code",
   "execution_count": null,
   "id": "792cbadd",
   "metadata": {},
   "outputs": [],
   "source": [
    "df[\"paperless_billing\"].value_counts(normalize = True).round(2).to_frame()"
   ]
  },
  {
   "cell_type": "code",
   "execution_count": null,
   "id": "55208f4f",
   "metadata": {},
   "outputs": [],
   "source": [
    "sns.histplot(\n",
    "    df[\"paperless_billing\"]\n",
    ")\n",
    "plt.show()"
   ]
  },
  {
   "cell_type": "markdown",
   "id": "51774772",
   "metadata": {},
   "source": [
    "From this analysis and visualization seen above majority of customers use a paperless bill"
   ]
  },
  {
   "cell_type": "code",
   "execution_count": null,
   "id": "d2bf2c3e",
   "metadata": {},
   "outputs": [],
   "source": [
    "df.groupby('paperless_billing')[\"churn\"].value_counts(normalize = True).round(2).to_frame()"
   ]
  },
  {
   "cell_type": "code",
   "execution_count": null,
   "id": "b20ba2e3",
   "metadata": {},
   "outputs": [],
   "source": [
    "sns.countplot(\n",
    "    x = 'paperless_billing',\n",
    "    hue = \"churn\",\n",
    "    data = df\n",
    "    )\n",
    "plt.xticks(rotation = 45)\n",
    "plt.show()"
   ]
  },
  {
   "cell_type": "markdown",
   "id": "3099d2bb",
   "metadata": {},
   "source": [
    "it seems customers prefer bills in the traditional manner rather than using a paperless bill evidence in the analysis of churn versus paperless billing it is seen that customers who do not use a paperless bill have a higer non churn rate as compared to customers who use a paperless bill "
   ]
  },
  {
   "cell_type": "markdown",
   "id": "044e4346",
   "metadata": {},
   "source": [
    "## What is the churn rate among customers based on thier prefered payment method?"
   ]
  },
  {
   "cell_type": "code",
   "execution_count": null,
   "id": "a43d3028",
   "metadata": {},
   "outputs": [],
   "source": [
    "df[\"payment_method\"].value_counts().to_frame()"
   ]
  },
  {
   "cell_type": "code",
   "execution_count": null,
   "id": "3ac401c2",
   "metadata": {},
   "outputs": [],
   "source": [
    "df[\"payment_method\"].value_counts(normalize = True).round(2).to_frame()"
   ]
  },
  {
   "cell_type": "code",
   "execution_count": null,
   "id": "f1cdf312",
   "metadata": {},
   "outputs": [],
   "source": [
    "sns.histplot(\n",
    "    df[\"payment_method\"]\n",
    ")\n",
    "plt.xticks(rotation = 45)\n",
    "plt.show()"
   ]
  },
  {
   "cell_type": "markdown",
   "id": "b3bb9819",
   "metadata": {},
   "source": [
    "As analyzed it seen that majority of customers used an electronic check for payments and the second most used payment method is the mailded check followed by the Automatic Bank transfer and the least used is the Automatic Credit card payment method"
   ]
  },
  {
   "cell_type": "code",
   "execution_count": null,
   "id": "5082ccd1",
   "metadata": {},
   "outputs": [],
   "source": [
    "df.groupby('payment_method')[\"churn\"].value_counts().to_frame()"
   ]
  },
  {
   "cell_type": "code",
   "execution_count": null,
   "id": "98726e9a",
   "metadata": {
    "scrolled": true
   },
   "outputs": [],
   "source": [
    "df.groupby('payment_method')[\"churn\"].value_counts(normalize = True).round(2).to_frame()"
   ]
  },
  {
   "cell_type": "code",
   "execution_count": null,
   "id": "4fd7219a",
   "metadata": {},
   "outputs": [],
   "source": [
    "sns.countplot(\n",
    "    x = 'payment_method',\n",
    "    hue = \"churn\",\n",
    "    data = df\n",
    "    )\n",
    "plt.xticks(rotation = 45)\n",
    "plt.show()"
   ]
  },
  {
   "cell_type": "markdown",
   "id": "93df6311",
   "metadata": {},
   "source": [
    "The Automatic Credit card payment method has the lowest churn rate and the highest non Churn rate  followed by the automatic Bank transfer, the Mailed check and lastly the Electronic Check"
   ]
  },
  {
   "cell_type": "markdown",
   "id": "bd9c0c1e",
   "metadata": {},
   "source": [
    "## What is the distribution of monthly and total charges among customer?"
   ]
  },
  {
   "cell_type": "code",
   "execution_count": null,
   "id": "77be576d",
   "metadata": {},
   "outputs": [],
   "source": [
    "df[[\"monthly_charges\", \"total_charges\", \"tenure\"]].hist(figsize = (10,5))\n",
    "plt.show()"
   ]
  },
  {
   "cell_type": "markdown",
   "id": "e69c3912",
   "metadata": {},
   "source": [
    "# Model training "
   ]
  },
  {
   "cell_type": "markdown",
   "id": "37c5e0c9",
   "metadata": {},
   "source": [
    "## Preprocessing data"
   ]
  },
  {
   "cell_type": "code",
   "execution_count": null,
   "id": "17d11571",
   "metadata": {},
   "outputs": [],
   "source": [
    "df = pd.get_dummies(df, \n",
    "                        columns = ['gender', 'senior_citizen', 'partner', 'dependents', 'tenure',\n",
    "       'phone_service', 'multiple_lines', 'internet_service',\n",
    "       'online_security', 'online_backup', 'device_protection', 'tech_support',\n",
    "       'streaming_tV', 'streaming_movies', 'contract', 'paperless_billing',\n",
    "       'payment_method', 'monthly_charges', 'total_charges'],\n",
    "                        drop_first = True)"
   ]
  },
  {
   "cell_type": "code",
   "execution_count": null,
   "id": "33da15d1",
   "metadata": {},
   "outputs": [],
   "source": [
    "df[\"churn\"] = df['churn'].replace({\"Yes\": 1, \"No\": 0})"
   ]
  },
  {
   "cell_type": "code",
   "execution_count": null,
   "id": "359695fc",
   "metadata": {},
   "outputs": [],
   "source": [
    "df.head()"
   ]
  },
  {
   "cell_type": "markdown",
   "id": "2071edee",
   "metadata": {},
   "source": [
    "## Feature variable "
   ]
  },
  {
   "cell_type": "code",
   "execution_count": null,
   "id": "f4c852fd",
   "metadata": {},
   "outputs": [],
   "source": [
    "x = df.drop(\"churn\", axis = 1)"
   ]
  },
  {
   "cell_type": "markdown",
   "id": "2d1d976d",
   "metadata": {},
   "source": [
    "## Target variable"
   ]
  },
  {
   "cell_type": "code",
   "execution_count": null,
   "id": "95848eaa",
   "metadata": {},
   "outputs": [],
   "source": [
    "y = df[\"churn\"]"
   ]
  },
  {
   "cell_type": "markdown",
   "id": "e1fd8a75",
   "metadata": {},
   "source": [
    "## Splitting data set for training and testing"
   ]
  },
  {
   "cell_type": "code",
   "execution_count": null,
   "id": "aac5a5c3",
   "metadata": {},
   "outputs": [],
   "source": [
    "x_train, x_test, y_train, y_test = train_test_split(x, y, test_size = 0.3, random_state = 42)"
   ]
  },
  {
   "cell_type": "markdown",
   "id": "a774d629",
   "metadata": {},
   "source": [
    "# KNeighbors Classifier"
   ]
  },
  {
   "cell_type": "markdown",
   "id": "aa043b04",
   "metadata": {},
   "source": [
    "## Hyperparameter tuning"
   ]
  },
  {
   "cell_type": "code",
   "execution_count": null,
   "id": "1d390704",
   "metadata": {},
   "outputs": [],
   "source": [
    "#kf = KFold(n_splits = 5, shuffle = True, random_state = 42)"
   ]
  },
  {
   "cell_type": "code",
   "execution_count": null,
   "id": "b61bf65c",
   "metadata": {},
   "outputs": [],
   "source": [
    "'''param_grid = {\n",
    "    \"n_neighbors\": np.arange(2,10),\n",
    "    \"metric\" : ['euclidean', 'manhattan']\n",
    "}'''"
   ]
  },
  {
   "cell_type": "code",
   "execution_count": 157,
   "id": "486d1966",
   "metadata": {},
   "outputs": [],
   "source": [
    "#instantiating model\n",
    "knn = KNeighborsClassifier(n_neighbors = 3)"
   ]
  },
  {
   "cell_type": "code",
   "execution_count": 158,
   "id": "4a42b67e",
   "metadata": {},
   "outputs": [],
   "source": [
    "#tunning = RandomizedSearchCV(knn, param_grid, cv = kf, n_iter = 2)"
   ]
  },
  {
   "cell_type": "code",
   "execution_count": 159,
   "id": "6380a2a6",
   "metadata": {},
   "outputs": [],
   "source": [
    "#tunning.fit(x_train, y_train)\n"
   ]
  },
  {
   "cell_type": "code",
   "execution_count": 160,
   "id": "6f7fdf50",
   "metadata": {},
   "outputs": [],
   "source": [
    "#print(tunning.best_params_, tunning.best_score_)"
   ]
  },
  {
   "cell_type": "markdown",
   "id": "9a51782b",
   "metadata": {},
   "source": [
    "The lines of codes for hyperparameter tunning above are computationally expensive and as such after getting the best params from the output, i turned them into comments to optimize the run time for the rest of the codes"
   ]
  },
  {
   "cell_type": "code",
   "execution_count": 161,
   "id": "6c61efb1",
   "metadata": {},
   "outputs": [
    {
     "data": {
      "text/plain": [
       "KNeighborsClassifier(n_neighbors=3)"
      ]
     },
     "execution_count": 161,
     "metadata": {},
     "output_type": "execute_result"
    }
   ],
   "source": [
    "#Fitting training data to model \n",
    "knn.fit(x_train, y_train) "
   ]
  },
  {
   "cell_type": "code",
   "execution_count": 162,
   "id": "cb3e00cf",
   "metadata": {},
   "outputs": [
    {
     "name": "stderr",
     "output_type": "stream",
     "text": [
      "C:\\ProgramData\\Anaconda3\\lib\\site-packages\\sklearn\\neighbors\\_classification.py:228: FutureWarning: Unlike other reduction functions (e.g. `skew`, `kurtosis`), the default behavior of `mode` typically preserves the axis it acts along. In SciPy 1.11.0, this behavior will change: the default value of `keepdims` will become False, the `axis` over which the statistic is taken will be eliminated, and the value None will no longer be accepted. Set `keepdims` to True or False to avoid this warning.\n",
      "  mode, _ = stats.mode(_y[neigh_ind, k], axis=1)\n"
     ]
    }
   ],
   "source": [
    "#Using the training data to predict the target variable\n",
    "y_train_pred = knn.predict(x_train)"
   ]
  },
  {
   "cell_type": "code",
   "execution_count": 163,
   "id": "258b2f11",
   "metadata": {},
   "outputs": [
    {
     "data": {
      "text/plain": [
       "0.8549695740365112"
      ]
     },
     "execution_count": 163,
     "metadata": {},
     "output_type": "execute_result"
    }
   ],
   "source": [
    "#Evaluating the Knerighbor classifier model's performance\n",
    "accuracy_score(y_train, y_train_pred)\n"
   ]
  },
  {
   "cell_type": "code",
   "execution_count": 164,
   "id": "bc47d520",
   "metadata": {},
   "outputs": [
    {
     "name": "stdout",
     "output_type": "stream",
     "text": [
      "[[3287  348]\n",
      " [ 367  928]]\n"
     ]
    }
   ],
   "source": [
    "confused_matrix_train = confusion_matrix(y_train, y_train_pred)\n",
    "print(confused_matrix_train)"
   ]
  },
  {
   "cell_type": "code",
   "execution_count": null,
   "id": "5c092bb9",
   "metadata": {},
   "outputs": [],
   "source": [
    "sns.heatmap(\n",
    "    confused_matrix_train, \n",
    "    annot = True, \n",
    "    cmap =\"viridis\",\n",
    "    fmt = 'g',\n",
    "    xticklabels = [\"Non-churn(0)\",\"Churn(1)\"],\n",
    "    yticklabels = [\"Non-churn(0)\",\"Churn(1)\"]\n",
    ")\n",
    "plt.title('Kneighbors Classifier confusion matrix')\n",
    "plt.show()"
   ]
  },
  {
   "cell_type": "code",
   "execution_count": null,
   "id": "f5a2e7ab",
   "metadata": {},
   "outputs": [],
   "source": [
    "class_report = classification_report(y_train, y_train_pred)\n",
    "print(class_report)"
   ]
  },
  {
   "cell_type": "markdown",
   "id": "c7f3c98c",
   "metadata": {},
   "source": [
    "From the Classification report above:\n",
    "1. The precision which is the is the number of true positives divided by the sum of all positive predictions,\n",
    "a high precision means having a lower false positive rate.\n",
    "2. The Recall which is the number of true positives divided by the sum of true positives and false negatives,\n",
    "a high recall reflects a lower false negative rate\n",
    "3. The F1-score is the harmonic mean of precision and recall."
   ]
  },
  {
   "cell_type": "code",
   "execution_count": null,
   "id": "d6dbf609",
   "metadata": {},
   "outputs": [],
   "source": [
    "y_train_pred_prob = knn.predict_proba(x_train)[:,1]"
   ]
  },
  {
   "cell_type": "code",
   "execution_count": null,
   "id": "fb88ec4b",
   "metadata": {},
   "outputs": [],
   "source": [
    "fpr, tpr, theshold = roc_curve(y_train, y_train_pred_prob)\n",
    "plt.plot([0, 1], [0, 1], \"k--\")\n",
    "print(roc_auc_score(y_train, y_train_pred_prob))\n",
    "plt.plot(fpr, tpr)\n",
    "plt.show()"
   ]
  },
  {
   "cell_type": "code",
   "execution_count": 154,
   "id": "b4a3e8c7",
   "metadata": {},
   "outputs": [
    {
     "name": "stderr",
     "output_type": "stream",
     "text": [
      "C:\\ProgramData\\Anaconda3\\lib\\site-packages\\sklearn\\neighbors\\_classification.py:228: FutureWarning: Unlike other reduction functions (e.g. `skew`, `kurtosis`), the default behavior of `mode` typically preserves the axis it acts along. In SciPy 1.11.0, this behavior will change: the default value of `keepdims` will become False, the `axis` over which the statistic is taken will be eliminated, and the value None will no longer be accepted. Set `keepdims` to True or False to avoid this warning.\n",
      "  mode, _ = stats.mode(_y[neigh_ind, k], axis=1)\n"
     ]
    }
   ],
   "source": [
    "y_test_pred = knn.predict(x_test_scaled)"
   ]
  },
  {
   "cell_type": "code",
   "execution_count": 165,
   "id": "7bc1feab",
   "metadata": {},
   "outputs": [
    {
     "data": {
      "text/plain": [
       "0.7292948414576431"
      ]
     },
     "execution_count": 165,
     "metadata": {},
     "output_type": "execute_result"
    }
   ],
   "source": [
    "accuracy_score(y_test_pred, y_test)"
   ]
  },
  {
   "cell_type": "code",
   "execution_count": 156,
   "id": "3ad2a5e6",
   "metadata": {},
   "outputs": [
    {
     "name": "stdout",
     "output_type": "stream",
     "text": [
      "[[1524   15]\n",
      " [ 557   17]]\n"
     ]
    }
   ],
   "source": [
    "confused_matrix_test = confusion_matrix(y_test, y_test_pred)\n",
    "print(confused_matrix_test)"
   ]
  },
  {
   "cell_type": "code",
   "execution_count": null,
   "id": "6e93a9c6",
   "metadata": {},
   "outputs": [],
   "source": [
    "sns.heatmap(\n",
    "    confused_matrix_test, \n",
    "    annot = True, \n",
    "    cmap =\"turbo\",\n",
    "    fmt = 'g',\n",
    "    xticklabels = [\"Non-churn(0)\",\"Churn(1)\"],\n",
    "    yticklabels = [\"Non-churn(0)\",\"Churn(1)\"]\n",
    ")\n",
    "plt.title('Kneighbors Classifier confusion matrix')\n",
    "plt.show()"
   ]
  },
  {
   "cell_type": "code",
   "execution_count": null,
   "id": "351db8b6",
   "metadata": {},
   "outputs": [],
   "source": [
    "class_report = classification_report(y_test, y_test_pred)\n",
    "print(class_report)"
   ]
  },
  {
   "cell_type": "code",
   "execution_count": null,
   "id": "cf3a3f58",
   "metadata": {},
   "outputs": [],
   "source": [
    "y_test_pred_prob = knn.predict_proba(x_test)[:,1]"
   ]
  },
  {
   "cell_type": "code",
   "execution_count": null,
   "id": "102f2376",
   "metadata": {
    "scrolled": true
   },
   "outputs": [],
   "source": [
    "fpr, tpr, theshold = roc_curve(y_test, y_test_pred_prob)\n",
    "plt.plot([0, 1], [0, 1], \"k--\")\n",
    "print(roc_auc_score(y_test, y_test_pred_prob))\n",
    "plt.plot(fpr, tpr)\n",
    "plt.show()"
   ]
  },
  {
   "cell_type": "markdown",
   "id": "b200bbbf",
   "metadata": {},
   "source": [
    "# Logistic Regression`"
   ]
  },
  {
   "cell_type": "code",
   "execution_count": null,
   "id": "edb3d26a",
   "metadata": {},
   "outputs": [],
   "source": [
    "#instantiating model\n",
    "log = LogisticRegression(max_iter = 1000)"
   ]
  },
  {
   "cell_type": "code",
   "execution_count": null,
   "id": "278e2497",
   "metadata": {},
   "outputs": [],
   "source": [
    "log.fit(x_train, y_train)"
   ]
  },
  {
   "cell_type": "code",
   "execution_count": null,
   "id": "f18c7143",
   "metadata": {},
   "outputs": [],
   "source": [
    "log_y_pred_train = log.predict(x_train)"
   ]
  },
  {
   "cell_type": "code",
   "execution_count": null,
   "id": "25af3ad4",
   "metadata": {},
   "outputs": [],
   "source": [
    "accuracy_score(y_train, log_y_pred_train)"
   ]
  },
  {
   "cell_type": "code",
   "execution_count": null,
   "id": "32e98ccc",
   "metadata": {},
   "outputs": [],
   "source": [
    "log_train_confused = confusion_matrix(y_train, log_y_pred_train)\n",
    "print(log_train_confused)"
   ]
  },
  {
   "cell_type": "code",
   "execution_count": null,
   "id": "3943a53f",
   "metadata": {},
   "outputs": [],
   "source": [
    "sns.heatmap(\n",
    "    log_train_confused,\n",
    "    annot = True, \n",
    "    cmap ='viridis',\n",
    "    fmt = 'g',\n",
    "    xticklabels = [\"Non-churn(0)\",\"Churn(1)\"],\n",
    "    yticklabels = [\"Non-churn(0)\",\"Churn(1)\"]\n",
    ")\n",
    "plt.show()"
   ]
  },
  {
   "cell_type": "code",
   "execution_count": null,
   "id": "5b261db1",
   "metadata": {},
   "outputs": [],
   "source": [
    "log_class_report = classification_report(y_train, log_y_pred_train)\n",
    "print(log_class_report)"
   ]
  },
  {
   "cell_type": "code",
   "execution_count": null,
   "id": "f76c6794",
   "metadata": {},
   "outputs": [],
   "source": [
    "log_y_train_pred_prob = log.predict_proba(x_train)[:,1]"
   ]
  },
  {
   "cell_type": "code",
   "execution_count": null,
   "id": "49952e4a",
   "metadata": {},
   "outputs": [],
   "source": [
    "fpr, tpr, theshold = roc_curve(y_train, log_y_train_pred_prob)\n",
    "plt.plot([0, 1], [0, 1], \"k--\")\n",
    "print(roc_auc_score(y_train, log_y_train_pred_prob))\n",
    "plt.plot(fpr, tpr)\n",
    "plt.show()"
   ]
  },
  {
   "cell_type": "code",
   "execution_count": null,
   "id": "ac96ecf0",
   "metadata": {},
   "outputs": [],
   "source": [
    "log_y_pred_test = log.predict(x_test)"
   ]
  },
  {
   "cell_type": "code",
   "execution_count": null,
   "id": "f9c514c6",
   "metadata": {},
   "outputs": [],
   "source": [
    "accuracy_score(log_y_pred_test, y_test)"
   ]
  },
  {
   "cell_type": "code",
   "execution_count": null,
   "id": "f865aaf5",
   "metadata": {},
   "outputs": [],
   "source": [
    "log_confused_test = confusion_matrix(log_y_pred_test, y_test)\n",
    "print(log_confused_test)"
   ]
  },
  {
   "cell_type": "code",
   "execution_count": null,
   "id": "6c04bfd1",
   "metadata": {},
   "outputs": [],
   "source": [
    "sns.heatmap(\n",
    "    log_confused_test,\n",
    "    annot = True,\n",
    "    cmap ='turbo',\n",
    "    fmt = 'g',\n",
    "    xticklabels = [\"Non-churn(0)\",\"Churn(1)\"],\n",
    "    yticklabels = [\"Non-churn(0)\",\"Churn(1)\"]\n",
    ")\n",
    "plt.show()"
   ]
  },
  {
   "cell_type": "code",
   "execution_count": null,
   "id": "c3b955b0",
   "metadata": {},
   "outputs": [],
   "source": [
    "log_test_proba = log.predict_proba(x_test)[:,1]"
   ]
  },
  {
   "cell_type": "code",
   "execution_count": null,
   "id": "9f19a311",
   "metadata": {},
   "outputs": [],
   "source": [
    "fpr, tpr, threshold = roc_curve(y_test, log_test_proba)\n",
    "plt.plot([0, 1], [0, 1], \"k--\")\n",
    "print(roc_auc_score(y_test, log_test_proba))\n",
    "plt.plot(fpr, tpr)\n",
    "plt.show()"
   ]
  },
  {
   "cell_type": "markdown",
   "id": "b84decb6",
   "metadata": {},
   "source": [
    "# Decision Tree Classifier"
   ]
  },
  {
   "cell_type": "code",
   "execution_count": null,
   "id": "501ef420",
   "metadata": {},
   "outputs": [],
   "source": [
    "dt = DecisionTreeClassifier(criterion = \"gini\", max_depth = 3, random_state = 42)"
   ]
  },
  {
   "cell_type": "code",
   "execution_count": null,
   "id": "54973b38",
   "metadata": {},
   "outputs": [],
   "source": [
    "dt.fit(x_train, y_train)"
   ]
  },
  {
   "cell_type": "code",
   "execution_count": null,
   "id": "2b79ea47",
   "metadata": {},
   "outputs": [],
   "source": [
    "dt_train_pred = dt.predict(x_train)"
   ]
  },
  {
   "cell_type": "code",
   "execution_count": null,
   "id": "fde79caa",
   "metadata": {},
   "outputs": [],
   "source": [
    "accuracy_score(dt_train_pred, y_train)"
   ]
  },
  {
   "cell_type": "code",
   "execution_count": null,
   "id": "895bcc58",
   "metadata": {},
   "outputs": [],
   "source": [
    "dt_train_confused = confusion_matrix(dt_train_pred, y_train)\n",
    "print(dt_train_confused)"
   ]
  },
  {
   "cell_type": "code",
   "execution_count": null,
   "id": "7999c162",
   "metadata": {},
   "outputs": [],
   "source": [
    "sns.heatmap(\n",
    "    dt_train_confused,\n",
    "    fmt = \"g\",\n",
    "    cmap = \"viridis\",\n",
    "    annot = True,\n",
    "    xticklabels = [\"Non-churn(0)\",\"Churn(1)\"],\n",
    "    yticklabels = [\"Non-churn(0)\",\"Churn(1)\"]\n",
    ")\n",
    "plt.show()"
   ]
  },
  {
   "cell_type": "code",
   "execution_count": null,
   "id": "5f3e4305",
   "metadata": {},
   "outputs": [],
   "source": [
    "print(classification_report(dt_train_pred, y_train))"
   ]
  },
  {
   "cell_type": "code",
   "execution_count": null,
   "id": "6f092434",
   "metadata": {},
   "outputs": [],
   "source": [
    "dt_train_proba = dt.predict_proba(x_train)[:,1]"
   ]
  },
  {
   "cell_type": "code",
   "execution_count": null,
   "id": "bbc54f0b",
   "metadata": {},
   "outputs": [],
   "source": [
    "fpr, tpr, theshold = roc_curve(y_train, dt_train_proba)\n",
    "plt.plot([0, 1], [0, 1], \"k--\")\n",
    "print(roc_auc_score(y_train, dt_train_proba))\n",
    "plt.plot(fpr, tpr)\n",
    "plt.show()"
   ]
  },
  {
   "cell_type": "code",
   "execution_count": null,
   "id": "42ae5778",
   "metadata": {},
   "outputs": [],
   "source": [
    "dt_test = dt.predict(x_test)"
   ]
  },
  {
   "cell_type": "code",
   "execution_count": null,
   "id": "932b7f3f",
   "metadata": {},
   "outputs": [],
   "source": [
    "accuracy_score(dt_test, y_test)"
   ]
  },
  {
   "cell_type": "code",
   "execution_count": null,
   "id": "4fdf4863",
   "metadata": {},
   "outputs": [],
   "source": [
    "dt_test_confused = confusion_matrix(dt_test, y_test)\n",
    "print(dt_test_confused)"
   ]
  },
  {
   "cell_type": "code",
   "execution_count": null,
   "id": "e1fd7130",
   "metadata": {},
   "outputs": [],
   "source": [
    "sns.heatmap(\n",
    "    dt_test_confused,\n",
    "    fmt = 'g',\n",
    "    annot = True,\n",
    "    cmap = \"turbo\",\n",
    "    xticklabels = [\"Non-churn(0)\",\"Churn(1)\"],\n",
    "    yticklabels = [\"Non-churn(0)\",\"Churn(1)\"]\n",
    ")\n",
    "plt.show()"
   ]
  },
  {
   "cell_type": "code",
   "execution_count": null,
   "id": "d6b691a9",
   "metadata": {},
   "outputs": [],
   "source": [
    "print(classification_report(dt_test, y_test))"
   ]
  },
  {
   "cell_type": "code",
   "execution_count": null,
   "id": "0f45c161",
   "metadata": {},
   "outputs": [],
   "source": [
    "dt_test_proba = dt.predict_proba(x_test)[:,1]"
   ]
  },
  {
   "cell_type": "code",
   "execution_count": null,
   "id": "6159beaf",
   "metadata": {},
   "outputs": [],
   "source": [
    "fpr, tpr, threshold = roc_curve(y_test, dt_test_proba)\n",
    "plt.plot([0, 1], [0, 1], \"k--\")\n",
    "print(roc_auc_score(y_test, dt_test_proba))\n",
    "plt.plot(fpr, tpr)\n",
    "plt.show()"
   ]
  },
  {
   "cell_type": "code",
   "execution_count": null,
   "id": "b44c2f5a",
   "metadata": {},
   "outputs": [],
   "source": []
  }
 ],
 "metadata": {
  "kernelspec": {
   "display_name": "Python 3 (ipykernel)",
   "language": "python",
   "name": "python3"
  },
  "language_info": {
   "codemirror_mode": {
    "name": "ipython",
    "version": 3
   },
   "file_extension": ".py",
   "mimetype": "text/x-python",
   "name": "python",
   "nbconvert_exporter": "python",
   "pygments_lexer": "ipython3",
   "version": "3.9.13"
  }
 },
 "nbformat": 4,
 "nbformat_minor": 5
}
